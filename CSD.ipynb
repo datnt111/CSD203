{
 "cells": [
  {
   "cell_type": "code",
   "execution_count": 12,
   "id": "07046a39",
   "metadata": {},
   "outputs": [
    {
     "name": "stdout",
     "output_type": "stream",
     "text": [
      "nhap done de ket thuc\n",
      "nhap vao 1 so-nhap :11\n",
      "nhap done de ket thuc\n",
      "nhap vao 1 so-nhap :99\n",
      "nhap done de ket thuc\n",
      "nhap vao 1 so-nhap :65\n",
      "nhap done de ket thuc\n",
      "nhap vao 1 so-nhap :75\n",
      "nhap done de ket thuc\n",
      "nhap vao 1 so-nhap :done\n",
      "3\n"
     ]
    }
   ],
   "source": [
    "#problem 1\n",
    "from math import* \n",
    "c = []\n",
    "while True:\n",
    "    print('nhap done de ket thuc')\n",
    "    n =input('nhap vao 1 so-nhap :')\n",
    "    if n == 'done':\n",
    "        break\n",
    "    else:\n",
    "        c.append(int(n))\n",
    "        \n",
    "a = 0\n",
    "for i in range (len(c)):\n",
    "    a+=c[i]\n",
    "b = a/len(c)\n",
    "d= []\n",
    "for i in range(len(c)):\n",
    "    distance = abs(c[i]-b)\n",
    "    d.append(distance)\n",
    "minnearest = d[0]\n",
    "a = 0\n",
    "for i in range(len(d)):\n",
    "    if d[i]<minnearest:\n",
    "        minnearest = d[i]\n",
    "        a = i\n",
    "print(i)\n",
    "    \n",
    "    \n",
    "    "
   ]
  },
  {
   "cell_type": "code",
   "execution_count": 26,
   "id": "9dfa6f51",
   "metadata": {},
   "outputs": [
    {
     "name": "stdout",
     "output_type": "stream",
     "text": [
      "He co so 4: \n",
      "He chu:2\n",
      "nhap he can chuyen doi:2\n",
      "nhap so diem can chuyen doi:9.0\n",
      "A\n"
     ]
    }
   ],
   "source": [
    "#Problem 2 \n",
    "\n",
    "def menu():\n",
    "    print('He co so 4: ')\n",
    "    print('He chu:2')\n",
    "    n = int(input('nhap he can chuyen doi:'))\n",
    "   \n",
    "    if n ==1:\n",
    "        print('ket qua cua ban la')\n",
    "        print(ham1())\n",
    "    if n==2:\n",
    "        print(ham2())\n",
    "s = 0\n",
    "def ham1():\n",
    "    \n",
    "    n=float(input('nhap so diem can chuyen doi:'))\n",
    "    if 0<=n<=10:\n",
    "        s = n/10*4\n",
    "        return s\n",
    "    else:\n",
    "        print('Dau vao k hop le')\n",
    "def ham2():\n",
    "    n = float(input('nhap so diem can chuyen doi:'))\n",
    "    if 0<=n<=4.0:\n",
    "        return 'F'\n",
    "    elif 4<=n<=5.4:\n",
    "        return 'D'\n",
    "            \n",
    "    elif 5.5<=n<=6.9:\n",
    "        return 'C'\n",
    "    elif 7.5<=n<=8.4:\n",
    "        return 'B'\n",
    "    elif 8.5<=n<=10:\n",
    "        return 'A'\n",
    "    else:\n",
    "        print('Dau vao k hop le')\n",
    "menu()\n"
   ]
  },
  {
   "cell_type": "code",
   "execution_count": 1,
   "id": "229bd620",
   "metadata": {},
   "outputs": [
    {
     "name": "stdout",
     "output_type": "stream",
     "text": [
      "nhap cac so co cach:1 2 3 3 1 2 6 7\n",
      "['6', '7']\n"
     ]
    }
   ],
   "source": [
    "#Problem 3:\n",
    "n = input('nhap cac so co cach:')\n",
    "s = n.split()\n",
    "d = []\n",
    "for i in range(len(s)):\n",
    "    a =int(s[i])\n",
    "    if a in d:\n",
    "        continue\n",
    "    else:\n",
    "        d.append(int(s[i]))\n",
    "print(d)\n",
    "\n"
   ]
  },
  {
   "cell_type": "code",
   "execution_count": null,
   "id": "a1ae17da",
   "metadata": {},
   "outputs": [],
   "source": []
  },
  {
   "cell_type": "code",
   "execution_count": null,
   "id": "ddf9e52f",
   "metadata": {},
   "outputs": [],
   "source": []
  },
  {
   "cell_type": "code",
   "execution_count": 3,
   "id": "0e20a709",
   "metadata": {},
   "outputs": [
    {
     "name": "stdout",
     "output_type": "stream",
     "text": [
      "1\n"
     ]
    }
   ],
   "source": [
    "c = [1,2,4,5,6]\n",
    "a = c[0]\n",
    "for i in range (1,len(c)):\n",
    "    if c[i]<a:\n",
    "        a = c[i]\n",
    "print(a)\n",
    "    "
   ]
  },
  {
   "cell_type": "code",
   "execution_count": null,
   "id": "23213b13",
   "metadata": {},
   "outputs": [],
   "source": []
  }
 ],
 "metadata": {
  "kernelspec": {
   "display_name": "Python 3 (ipykernel)",
   "language": "python",
   "name": "python3"
  },
  "language_info": {
   "codemirror_mode": {
    "name": "ipython",
    "version": 3
   },
   "file_extension": ".py",
   "mimetype": "text/x-python",
   "name": "python",
   "nbconvert_exporter": "python",
   "pygments_lexer": "ipython3",
   "version": "3.10.9"
  }
 },
 "nbformat": 4,
 "nbformat_minor": 5
}
